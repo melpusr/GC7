{
  "nbformat": 4,
  "nbformat_minor": 0,
  "metadata": {
    "colab": {
      "provenance": [],
      "toc_visible": true
    },
    "kernelspec": {
      "name": "python3",
      "display_name": "Python 3"
    },
    "language_info": {
      "name": "python"
    }
  },
  "cells": [
    {
      "cell_type": "markdown",
      "source": [
        "# 1 - Introduction"
      ],
      "metadata": {
        "id": "iMKvT89-tU3W"
      }
    },
    {
      "cell_type": "markdown",
      "source": [
        "Nama      : Amelia Puspita Sari\n",
        "\n",
        "Batch     : RMT-30\n",
        "\n",
        "Objective : membuat model inference dari Rice Image Dataset (dataset bersumber dari kaggle) lalu coba dipredict menggunakan model yang sudah dilatih."
      ],
      "metadata": {
        "id": "TPg8Xn_tt7fm"
      }
    },
    {
      "cell_type": "markdown",
      "source": [
        "# 2 - Import libraries"
      ],
      "metadata": {
        "id": "xbWEF4irtXhk"
      }
    },
    {
      "cell_type": "code",
      "execution_count": null,
      "metadata": {
        "id": "F4ass9JckCuB"
      },
      "outputs": [],
      "source": [
        "import tensorflow as tf\n",
        "from pathlib import Path\n",
        "import seaborn as sns\n",
        "import pickle\n",
        "from tensorflow.keras.preprocessing import image\n",
        "from PIL import Image\n",
        "from tensorflow.keras.models import Model, Sequential\n",
        "from tensorflow.keras.preprocessing.image import ImageDataGenerator\n",
        "from tensorflow.keras.callbacks import EarlyStopping\n",
        "from tensorflow.keras.layers import Dense, Dropout, Conv2D, MaxPooling2D, Flatten, Input\n",
        "from tensorflow.keras.models import load_model\n",
        "from tensorflow.keras.preprocessing.image import ImageDataGenerator, load_img, img_to_array"
      ]
    },
    {
      "cell_type": "markdown",
      "source": [
        "# 3 - Load model"
      ],
      "metadata": {
        "id": "L2zeNTIqtbfS"
      }
    },
    {
      "cell_type": "code",
      "source": [
        "best_model_path = '/content/drive/MyDrive/rice_classification_model.h5'"
      ],
      "metadata": {
        "id": "oi26dzDAkJA5"
      },
      "execution_count": null,
      "outputs": []
    },
    {
      "cell_type": "code",
      "source": [
        "model = load_model(best_model_path)"
      ],
      "metadata": {
        "id": "eaWWUoS_k9k-"
      },
      "execution_count": null,
      "outputs": []
    },
    {
      "cell_type": "markdown",
      "source": [
        "# 4 - Prediction"
      ],
      "metadata": {
        "id": "Y49WRwjpteG9"
      }
    },
    {
      "cell_type": "code",
      "source": [
        "# Define image dimensions\n",
        "img_height, img_width = 150, 150\n",
        "\n",
        "# Preprocess the image\n",
        "def preprocess_image(img_path):\n",
        "    img = Image.open(img_path)\n",
        "    img = img.resize((img_height, img_width))\n",
        "    img_array = image.img_to_array(img)\n",
        "    img_array = np.expand_dims(img_array, axis=0)  # Add batch dimension\n",
        "    img_array /= 255.0  # Normalize the image to [0, 1] range\n",
        "    return img_array"
      ],
      "metadata": {
        "id": "DU7erxNYlDp3"
      },
      "execution_count": null,
      "outputs": []
    },
    {
      "cell_type": "code",
      "source": [
        "\n",
        "# ImageDataGenerator for rescaling\n",
        "inf_foto = ImageDataGenerator(rescale=1./255.)\n",
        "\n",
        "# load image from google drive\n",
        "img_path = '/content/drive/MyDrive/image.jpg'\n",
        "img = load_img(img_path, target_size=(250, 250))  # di sini ukuran foto 250x250 pixel\n",
        "\n",
        "# changing image into array numpy\n",
        "img_array = img_to_array(img)\n",
        "\n",
        "# batch dimension\n",
        "img_array = img_array.reshape((1,) + img_array.shape)\n",
        "\n",
        "# predict with trained model\n",
        "prediction = model.predict(img_array)\n",
        "\n",
        "# print prediction\n",
        "print(f'Prediction: {prediction}')"
      ],
      "metadata": {
        "colab": {
          "base_uri": "https://localhost:8080/"
        },
        "id": "471mhdGzoOBS",
        "outputId": "480559af-85cb-4594-9486-4edd62aef61a"
      },
      "execution_count": null,
      "outputs": [
        {
          "output_type": "stream",
          "name": "stdout",
          "text": [
            "1/1 [==============================] - 0s 286ms/step\n",
            "Prediction: [[0. 0. 1. 0. 0.]]\n"
          ]
        }
      ]
    },
    {
      "cell_type": "markdown",
      "source": [
        "# 5 - Kesimpulan"
      ],
      "metadata": {
        "id": "80BE0vjUugAL"
      }
    },
    {
      "cell_type": "markdown",
      "source": [
        "berdasarkan hasil prediksi, gambar yang dimasukkan tadi diklasifikasikan oleh model sebagai bagian kelas ketiga dari total 5 kelas.\n",
        "\n",
        "model masih kurang baik dalam memprediksi. keterangan label kelas-kelas tersebut adalah sebagai berikut:\n",
        "\n",
        "- Arborio: 0,\n",
        "- Basmati: 1,\n",
        "- Ipsala: 2,\n",
        "- Jasmine: 3,\n",
        "- Karacadag: 4\n",
        "\n",
        "model memprediksi bahwa gambar tersebut adalah jenis Ipsala, dimana seharusnya Basmati. Mungkin nanti akan diperbaiki kembali preprocessing nya agar model tidak overfit"
      ],
      "metadata": {
        "id": "N5pU9Ml3uilq"
      }
    }
  ]
}